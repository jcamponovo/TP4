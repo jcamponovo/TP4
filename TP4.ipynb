{
 "cells": [
  {
   "cell_type": "markdown",
   "metadata": {},
   "source": [
    "<center><h2>ATTENTION! Avant de démarrer, merci de suivre la procédure en 4 étapes ci-dessous pour le bon fonctionnement de la page</h2></center>\n",
    "<b style=\"color:red;\">1°) Cliquez sur le bouton \"Sans Confiance\"</b> \n",
    "<center><img src=\"./trust.png\"></center>\n",
    "<p>\n",
    "<br></p>\n",
    "<b style=\"color:red;\">2°) Cliquer sur le bouton rouge \"Faire Confiance\" pour autoriser l'exécution des scripts de la page</b>\n",
    "<center><img src=\"./trust2.png\"></center>\n",
    "<p>\n",
    "<br></p>\n",
    "<b style=\"color:red;\">3°) Cliquez sur l'icone \"redémarrer le noyau et ré-exécuter tout le notebook\"</b>\n",
    "<center><img src=\"./trust3.png\"></center>\n",
    "<p>\n",
    "<br></p>\n",
    "<b style=\"color:red;\">4°) Cliquez sur le bouton rouge \"Relancer et exécuter toutes les cellules\" pour exécuter tous les programmes pythons déjà présents sur la page</b>\n",
    "<center><img src=\"./trust4.png\"></center>"
   ]
  },
  {
   "cell_type": "markdown",
   "metadata": {},
   "source": [
    "<div id=\"Titre\"></div>\n",
    "\n",
    "# TP4 - Vitesse des Ultrasons + Mesure de distance\n",
    "\n",
    "<h2>Travail demandé:</h2>\n",
    "\n",
    "<ol><li> Inscrire vos réponses, programmes, images dans les blocs réponse prévus pour construire votre compte rendu</li>\n",
    "<li> Vous pouvez tester et/ou modifier les différents morceaux de code proposés</li>\n",
    "<li> Sauvegardez régulièrement votre travail. Attention, la sauvegarde se fait dans un espace temporaire et le fichier sera perdu au bout de quelques heures. </li>\n",
    "<li> Téléchargez votre fichier au <b>format Notebook</b> si vous souhaitez pouvoir le <b>modifier plus tard</b>. Téléchargez le au <b> format html</b> si vous souhaitez simplement une <b>trace écrite</b> ou pour le rendre au professeur.</li></ol>"
   ]
  },
  {
   "cell_type": "code",
   "execution_count": 1,
   "metadata": {},
   "outputs": [
    {
     "data": {
      "text/html": [
       "<script>\n",
       "code_show=true; \n",
       "function code_toggle() {\n",
       "  if (code_show) {\n",
       "    $('div.input').each(function(id) {\n",
       "      el = $(this).find('.cm-variable:first');\n",
       "      if (id == 0 || el.text() == 'hide_toggle') {\n",
       "        $(this).hide();\n",
       "        $(this).parent().next().find('div.input').hide();\n",
       "        $(this).parent().next().find('div.output').hide();\n",
       "       \n",
       "      }\n",
       "    });\n",
       "\n",
       "    $('div.output_prompt').css('opacity', 0);\n",
       "  } else {\n",
       "    $('div.input').each(function(id) {\n",
       "    if (id == 0 ){\n",
       "      $(this).show();\n",
       "            $(this).parent().next().find('div.input').show();\n",
       "        $(this).parent().next().find('div.output').show();\n",
       "    }\n",
       "    });\n",
       "    $('div.output_prompt').css('opacity', 1);\n",
       "  \n",
       "  }\n",
       "  code_show = !code_show\n",
       "} \n",
       "\n",
       "$( document ).ready(code_toggle);\n",
       "</script>"
      ],
      "text/plain": [
       "<IPython.core.display.HTML object>"
      ]
     },
     "execution_count": 1,
     "metadata": {},
     "output_type": "execute_result"
    }
   ],
   "source": [
    "# This is a cell to hide code snippets from displaying\n",
    "# This must be at first cell!\n",
    "\n",
    "from IPython.display import HTML\n",
    "\n",
    "hide_me = ''\n",
    "HTML('''<script>\n",
    "code_show=true; \n",
    "function code_toggle() {\n",
    "  if (code_show) {\n",
    "    $('div.input').each(function(id) {\n",
    "      el = $(this).find('.cm-variable:first');\n",
    "      if (id == 0 || el.text() == 'hide_toggle') {\n",
    "        $(this).hide();\n",
    "        $(this).parent().next().find('div.input').hide();\n",
    "        $(this).parent().next().find('div.output').hide();\n",
    "       \n",
    "      }\n",
    "    });\n",
    "\n",
    "    $('div.output_prompt').css('opacity', 0);\n",
    "  } else {\n",
    "    $('div.input').each(function(id) {\n",
    "    if (id == 0 ){\n",
    "      $(this).show();\n",
    "            $(this).parent().next().find('div.input').show();\n",
    "        $(this).parent().next().find('div.output').show();\n",
    "    }\n",
    "    });\n",
    "    $('div.output_prompt').css('opacity', 1);\n",
    "  \n",
    "  }\n",
    "  code_show = !code_show\n",
    "} \n",
    "\n",
    "$( document ).ready(code_toggle);\n",
    "</script>''')\n",
    "#<form action=\"javascript:code_toggle()\"><input style=\"opacity:0\" type=\"submit\" value=\"Click here to toggle on/off the raw code.\"></form>''')"
   ]
  },
  {
   "cell_type": "code",
   "execution_count": 2,
   "metadata": {},
   "outputs": [],
   "source": [
    "# fonction pour cacher une cellule\n",
    "# à exécuter une fois au début pour la mettre en mémoire\n",
    "\n",
    "from IPython.display import HTML\n",
    "import random\n",
    "\n",
    "\n",
    "\n",
    "def hide_toggle(for_next=True,texte=\"Montrer/cacher\"):\n",
    "    this_cell = \"\"\"$('div.cell.code_cell.rendered.selected')\"\"\"\n",
    "    next_cell = this_cell + '.next()'\n",
    "  \n",
    "\n",
    "    toggle_text = texte  # text shown on toggle link\n",
    "    target_cell = this_cell  # target cell to control with toggle\n",
    "    js_hide_current = ''  # bit of JS to permanently hide code in current cell (only when toggling next cell)\n",
    "\n",
    "    if for_next:\n",
    "        target_cell = next_cell\n",
    "        js_hide_current = this_cell + '.find(\"div.input\").hide();'+this_cell+ '.find(\"div.output\").hide();'\n",
    "\n",
    "    js_f_name = f'code_toggle_{random.randint(1,2**64)}'\n",
    "\n",
    "    html = \"\"\"\n",
    "        <script>\n",
    "            function {f_name}() {{\n",
    "                {cell_selector}.find('div.input').toggle();\n",
    "                {cell_selector}.find('div.output').toggle();\n",
    "                {this_cell}.find('div.input').hide();\n",
    "\n",
    "            }}\n",
    "             $('div.prompt').hide();\n",
    "        </script>\n",
    "\n",
    "        <form action=\"javascript:{f_name}()\"><input type=\"submit\" id=\"toggleButton\" value={toggle_text}></form>\n",
    "    \"\"\".format(\n",
    "        f_name=js_f_name,\n",
    "        cell_selector=target_cell,\n",
    "        js_hide_current=js_hide_current, \n",
    "        toggle_text=toggle_text,\n",
    "        this_cell=this_cell\n",
    "    )\n",
    "    \n",
    "\n",
    "    return HTML(html)\n",
    "\n",
    "\n"
   ]
  },
  {
   "cell_type": "code",
   "execution_count": 3,
   "metadata": {},
   "outputs": [
    {
     "data": {
      "text/html": [
       "\n",
       "        <script>\n",
       "            function code_toggle_13280316838181094111() {\n",
       "                $('div.cell.code_cell.rendered.selected').next().find('div.input').toggle();\n",
       "                $('div.cell.code_cell.rendered.selected').next().find('div.output').toggle();\n",
       "                $('div.cell.code_cell.rendered.selected').find('div.input').hide();\n",
       "\n",
       "            }\n",
       "             $('div.prompt').hide();\n",
       "        </script>\n",
       "\n",
       "        <form action=\"javascript:code_toggle_13280316838181094111()\"><input type=\"submit\" id=\"toggleButton\" value=Montrer/cacher></form>\n",
       "    "
      ],
      "text/plain": [
       "<IPython.core.display.HTML object>"
      ]
     },
     "execution_count": 3,
     "metadata": {},
     "output_type": "execute_result"
    }
   ],
   "source": [
    "hide_toggle()"
   ]
  },
  {
   "cell_type": "code",
   "execution_count": 4,
   "metadata": {},
   "outputs": [
    {
     "name": "stdout",
     "output_type": "stream",
     "text": [
      "Requirement already satisfied: matplotlib in /home/camponovo/.local/lib/python3.7/site-packages (2.2.2)\n",
      "Requirement already satisfied: python-dateutil>=2.1 in /usr/local/lib/python3.7/dist-packages (from matplotlib) (2.7.5)\n",
      "Requirement already satisfied: kiwisolver>=1.0.1 in /usr/local/lib/python3.7/dist-packages (from matplotlib) (1.0.1)\n",
      "Requirement already satisfied: pytz in /home/camponovo/.local/lib/python3.7/site-packages (from matplotlib) (2019.1)\n",
      "Requirement already satisfied: cycler>=0.10 in /usr/local/lib/python3.7/dist-packages (from matplotlib) (0.10.0)\n",
      "Requirement already satisfied: numpy>=1.7.1 in /usr/lib/python3/dist-packages (from matplotlib) (1.16.2)\n",
      "Requirement already satisfied: six>=1.10 in /usr/lib/python3/dist-packages (from matplotlib) (1.12.0)\n",
      "Requirement already satisfied: pyparsing!=2.0.4,!=2.1.2,!=2.1.6,>=2.0.1 in /usr/local/lib/python3.7/dist-packages (from matplotlib) (2.3.0)\n",
      "Requirement already satisfied: setuptools in /usr/lib/python3/dist-packages (from kiwisolver>=1.0.1->matplotlib) (40.8.0)\n",
      "Requirement already satisfied: scipy in /usr/lib/python3/dist-packages (1.1.0)\n"
     ]
    }
   ],
   "source": [
    "# Installation des bibliothèques à exécuter une fois au début\n",
    "!pip install matplotlib\n",
    "!pip install scipy\n"
   ]
  },
  {
   "cell_type": "markdown",
   "metadata": {},
   "source": [
    "<h3>Matériel :</h3>\n",
    "<ul><li>Arduino nano</li>\n",
    "    <li>Breadboard</li>\n",
    "    <li>Fils</li>\n",
    "    <li>HC-SR04</li>\n",
    "    <li>Ecran rigide</li>\n",
    "    <li>Metre ruban</li>\n",
    "    <li>Ordinateur</li></ul>\n",
    "    <br>\n",
    "<h3>Logiciels :</h3>\n",
    "<ul><li>Navigateur web type Mozilla firefox</li>\n",
    "    <li>IDE Arduino</li></ul>\n",
    "    <br>"
   ]
  },
  {
   "cell_type": "code",
   "execution_count": 5,
   "metadata": {},
   "outputs": [],
   "source": [
    "# imports à exécuter une fois au début\n",
    "from math import pi\n",
    "from scipy.optimize import curve_fit\n",
    "import matplotlib.pyplot as plt"
   ]
  },
  {
   "cell_type": "markdown",
   "metadata": {},
   "source": [
    "# Sujet\n",
    "\n",
    "<p>Nous avons ici regroupé plusieurs TPs, une mesure de la vitesse d'une onde (ici les ultrasons), puis une mesure de distance en utilisant un émetteur et un récepteur d'ultrasons.</p>\n",
    "\n",
    "<h2>Partie 1 - Mesure de la vitesse des US</h2>\n",
    "<p>Pour étudier la vitesse des ultrasons puis effectuer des mesures de distance, nous allons utiliser un émetteur récepteur d’ultrasons HC-SR04. Il sera relié à une carte Arduino suivant le <b>montage de la figure 1.</b> Réalisez ce montage sans relier la carte Arduino à l’ordinateur.</p>\n",
    "\n",
    "<p><center><b>Figure 1. Montage à réaliser</b>\n",
    "<img src=\"./TP4_figure1.png\"></center></p>"
   ]
  },
  {
   "cell_type": "markdown",
   "metadata": {},
   "source": [
    "<b>1°)</b> Ouvrez le programme <a href=\"./US.ino\" target=\"_blank\">US.ino</a> fourni et <b>téléversez le dans votre carte Arduino</b> (attention de bien régler <b style=\"color:red;\">le type de carte, le port et le processeur)</b>.<p>Sachant que le pin « trig » pilote l’émission d’une signal US à 40kHz et que le pin « echo » permet de détecter un retour, que fait ce programme ?</p>"
   ]
  },
  {
   "cell_type": "raw",
   "metadata": {},
   "source": [
    "\n",
    "\n"
   ]
  },
  {
   "cell_type": "markdown",
   "metadata": {},
   "source": [
    "<p>Installez un écran en face de l’émetteur-récepteur d’ultrasons à une distance d’exactement 1m (utilisez le mètre ruban). Ouvrez le moniteur série du logiciel Arduino et relevez 10 valeurs de temps consécutives renvoyées par le dispositif.</p>\n",
    "<p><b>2°)</b> Le temps obtenu est-il exactement le même pour les 10 mesures ?</p>"
   ]
  },
  {
   "cell_type": "raw",
   "metadata": {},
   "source": [
    "\n",
    "\n"
   ]
  },
  {
   "cell_type": "markdown",
   "metadata": {},
   "source": [
    "<b>3°)</b> Stockez les 10 mesures de temps dans une liste <b style=\"color:red;\">en python</b> puis construire l'histogramme correspondant à ces mesures.\n",
    "<p>Vous pourrez utiliser la <a href=\"./methode_courbe.ipynb\">fiche méthode</a> fournie.</p>"
   ]
  },
  {
   "cell_type": "code",
   "execution_count": 6,
   "metadata": {},
   "outputs": [],
   "source": [
    "temps = []"
   ]
  },
  {
   "cell_type": "markdown",
   "metadata": {},
   "source": [
    "<p>Le programme suivant permet de mettre en mémoire dans une liste <b>temps2</b> les 10000 mesures pour une expérience identique réalisée avec une distance d = 1,66 m, stockés sous forme d'un fichier csv.<p>"
   ]
  },
  {
   "cell_type": "code",
   "execution_count": 7,
   "metadata": {},
   "outputs": [],
   "source": [
    "temps2 = []\n",
    "f = open(\"./listetemps.csv\",\"r\")\n",
    "data = f.readlines()\n",
    "f.close()\n",
    "\n",
    "data = data[1:]\n",
    "temps2 = list(map(int,data))"
   ]
  },
  {
   "cell_type": "markdown",
   "metadata": {},
   "source": [
    "<b>4°)</b> Ecrire ci-dessous un programme <b style=\"color:red;\">en python</b> permettant de construire l'histogramme (avec 20 classes) pour ces mesures."
   ]
  },
  {
   "cell_type": "code",
   "execution_count": null,
   "metadata": {},
   "outputs": [],
   "source": []
  },
  {
   "cell_type": "code",
   "execution_count": 8,
   "metadata": {},
   "outputs": [
    {
     "data": {
      "text/html": [
       "\n",
       "        <script>\n",
       "            function code_toggle_806412913417297948() {\n",
       "                $('div.cell.code_cell.rendered.selected').next().find('div.input').toggle();\n",
       "                $('div.cell.code_cell.rendered.selected').next().find('div.output').toggle();\n",
       "                $('div.cell.code_cell.rendered.selected').find('div.input').hide();\n",
       "\n",
       "            }\n",
       "             $('div.prompt').hide();\n",
       "        </script>\n",
       "\n",
       "        <form action=\"javascript:code_toggle_806412913417297948()\"><input type=\"submit\" id=\"toggleButton\" value=Correction></form>\n",
       "    "
      ],
      "text/plain": [
       "<IPython.core.display.HTML object>"
      ]
     },
     "execution_count": 8,
     "metadata": {},
     "output_type": "execute_result"
    }
   ],
   "source": [
    "hide_toggle(texte=\"Correction\")"
   ]
  },
  {
   "cell_type": "code",
   "execution_count": 9,
   "metadata": {},
   "outputs": [
    {
     "data": {
      "image/png": "[encoded data removed]",
      "text/plain": [
       "<Figure size 432x288 with 1 Axes>"
      ]
     },
     "metadata": {
      "needs_background": "light"
     },
     "output_type": "display_data"
    }
   ],
   "source": [
    "plt.hist(temps2,bins=20,rwidth=0.90)\n",
    "plt.title(\"Durée d'aller retour pour une distance d = 1,66 m\")\n",
    "plt.xlabel(\"Durée d'aller-retour (µs)\")\n",
    "plt.show()"
   ]
  },
  {
   "cell_type": "markdown",
   "metadata": {},
   "source": [
    "L'écart type se calcule par la formule:\n",
    "$\\sigma_{n-1}\\ =\\ \\sqrt{\\frac{\\sum \\limits_{1}^{n}{\\big( x_i\\ -\\ \\bar{x} \\big)^2}}{n\\ -\\ 1}}$\n",
    "<p>où $\\bar x$ est la valeur moyenne sur la série de n mesures et $x_i$ la i<sup>ème</sup> valeur, obtenue.</p>\n",
    "<p>Les bornes de l'intervalle de confiance à 95% sont données par $\\bar{x}\\ \\pm\\ \\frac{k_{95\\%}\\ \\sigma_{n-1}}{\\sqrt{n}}$ où $k_{95\\%}\\ =\\ 1{,}645$ vu le nombre de mesures réalisées.</p>\n",
    "<p><b>5°)</b> Calculez <b style=\"color:red\">sur python</b> puis afficher un encadrement du temps d'aller-retour mesuré lors de cette expérience.</p>"
   ]
  },
  {
   "cell_type": "code",
   "execution_count": null,
   "metadata": {},
   "outputs": [],
   "source": [
    "\n",
    "\n"
   ]
  },
  {
   "cell_type": "code",
   "execution_count": 10,
   "metadata": {},
   "outputs": [
    {
     "data": {
      "text/html": [
       "\n",
       "        <script>\n",
       "            function code_toggle_748621289852550680() {\n",
       "                $('div.cell.code_cell.rendered.selected').next().find('div.input').toggle();\n",
       "                $('div.cell.code_cell.rendered.selected').next().find('div.output').toggle();\n",
       "                $('div.cell.code_cell.rendered.selected').find('div.input').hide();\n",
       "\n",
       "            }\n",
       "             $('div.prompt').hide();\n",
       "        </script>\n",
       "\n",
       "        <form action=\"javascript:code_toggle_748621289852550680()\"><input type=\"submit\" id=\"toggleButton\" value=Correction></form>\n",
       "    "
      ],
      "text/plain": [
       "<IPython.core.display.HTML object>"
      ]
     },
     "execution_count": 10,
     "metadata": {},
     "output_type": "execute_result"
    }
   ],
   "source": [
    "hide_toggle(texte=\"Correction\")"
   ]
  },
  {
   "cell_type": "code",
   "execution_count": 11,
   "metadata": {},
   "outputs": [
    {
     "name": "stdout",
     "output_type": "stream",
     "text": [
      "Le temps d'aller-retour est entre 9716.2 et 9717.9 µs dans le cadre d'un intervalle de confiance de 95%\n"
     ]
    }
   ],
   "source": [
    "#calcul de la moyenne\n",
    "somme = 0\n",
    "for val in temps2:\n",
    "    somme += val\n",
    "moyenne = somme / len(temps2)\n",
    "\n",
    "#calcul de l'ecart type\n",
    "somme = 0\n",
    "for val in temps2:\n",
    "    somme += (val - moyenne)**2\n",
    "sigma = (somme/(len(temps2)-1))**0.5\n",
    "\n",
    "k95 = 1.645\n",
    "\n",
    "It = k95 * sigma / len(temps2)**0.5\n",
    "\n",
    "print(\"Le temps d'aller-retour est entre {:.1f} et {:.1f} µs dans le cadre d'un intervalle de confiance de 95%\".format(moyenne-It,moyenne+It))"
   ]
  },
  {
   "cell_type": "markdown",
   "metadata": {},
   "source": [
    "<p>La vitesse v est calculée en utilisant $v\\ =\\ \\frac {d}{t}$ avec d la distance correspondant à un aller-retour (soit 2d) et t la moyenne du temps mesuré. </p>\n",
    "<p>L'incertitude sur la mesure de la distance I<sub>d</sub> est de l'ordre de 2 cm. L'incertitude sur la mesure du temps I<sub>t</sub></p>\n",
    "<p>L'incertitude sur la vitesse I<sub>v</sub> se calcule par $I_v\\ =\\ v \\times\\ \\sqrt {\\big(\\frac{I_d}{d}\\big)^2\\ +\\ \\big(\\frac{I_t}{t}\\big)^2}$</p>\n",
    "<b>6°)</b> Calculez <b style=\"color:red\">sur python</b> puis afficher un encadrement de la vitesse des ultrasons dans l'air mesuré lors de cette expérience.</p>"
   ]
  },
  {
   "cell_type": "code",
   "execution_count": null,
   "metadata": {},
   "outputs": [],
   "source": []
  },
  {
   "cell_type": "code",
   "execution_count": 12,
   "metadata": {},
   "outputs": [
    {
     "data": {
      "text/html": [
       "\n",
       "        <script>\n",
       "            function code_toggle_12222081269007588959() {\n",
       "                $('div.cell.code_cell.rendered.selected').next().find('div.input').toggle();\n",
       "                $('div.cell.code_cell.rendered.selected').next().find('div.output').toggle();\n",
       "                $('div.cell.code_cell.rendered.selected').find('div.input').hide();\n",
       "\n",
       "            }\n",
       "             $('div.prompt').hide();\n",
       "        </script>\n",
       "\n",
       "        <form action=\"javascript:code_toggle_12222081269007588959()\"><input type=\"submit\" id=\"toggleButton\" value=Correction></form>\n",
       "    "
      ],
      "text/plain": [
       "<IPython.core.display.HTML object>"
      ]
     },
     "execution_count": 12,
     "metadata": {},
     "output_type": "execute_result"
    }
   ],
   "source": [
    "hide_toggle(texte=\"Correction\")"
   ]
  },
  {
   "cell_type": "code",
   "execution_count": 13,
   "metadata": {},
   "outputs": [
    {
     "name": "stdout",
     "output_type": "stream",
     "text": [
      "La vitesse des US mesurée est entre 339.6 et 343.7 m/s dans le cadre d'un intervalle de confiance de 95%\n"
     ]
    }
   ],
   "source": [
    "d = 1.66\n",
    "Id = 0.02\n",
    "v = (2 * d) / (moyenne*1e-6)\n",
    "\n",
    "Iv = v * ((Id / (2 * d))**2 + (It / moyenne)**2)**0.5\n",
    "\n",
    "print(\"La vitesse des US mesurée est entre {:.1f} et {:.1f} m/s dans le cadre d'un intervalle de confiance de 95%\".format(v-Iv,v+Iv))"
   ]
  },
  {
   "cell_type": "markdown",
   "metadata": {},
   "source": [
    "<b>7°)</b> Ouvrez le programme <a href=\"./US2.ino\" target=\"_blank\">US2.ino</a> fourni et <b>téléversez le dans votre carte Arduino</b> (attention de bien régler <b style=\"color:red;\">le type de carte, le port et le processeur)</b>.<p>Qu'apporte ce programme par rapport à US.ino ?</p>"
   ]
  },
  {
   "cell_type": "raw",
   "metadata": {},
   "source": [
    "\n",
    "\n"
   ]
  },
  {
   "cell_type": "markdown",
   "metadata": {},
   "source": [
    "<p><b>8°)</b> Mesurez le temps d'aller-retour des US entre le capteur et l'écran. Calculez <b style=\"color:red\">sur python</b> la vitesse des US d'après cette expérience.</p>"
   ]
  },
  {
   "cell_type": "code",
   "execution_count": null,
   "metadata": {},
   "outputs": [],
   "source": [
    "\n",
    "\n"
   ]
  },
  {
   "cell_type": "code",
   "execution_count": 14,
   "metadata": {},
   "outputs": [
    {
     "data": {
      "text/html": [
       "\n",
       "        <script>\n",
       "            function code_toggle_8997803431572644704() {\n",
       "                $('div.cell.code_cell.rendered.selected').next().find('div.input').toggle();\n",
       "                $('div.cell.code_cell.rendered.selected').next().find('div.output').toggle();\n",
       "                $('div.cell.code_cell.rendered.selected').find('div.input').hide();\n",
       "\n",
       "            }\n",
       "             $('div.prompt').hide();\n",
       "        </script>\n",
       "\n",
       "        <form action=\"javascript:code_toggle_8997803431572644704()\"><input type=\"submit\" id=\"toggleButton\" value=Correction></form>\n",
       "    "
      ],
      "text/plain": [
       "<IPython.core.display.HTML object>"
      ]
     },
     "execution_count": 14,
     "metadata": {},
     "output_type": "execute_result"
    }
   ],
   "source": [
    "hide_toggle(texte=\"Correction\")"
   ]
  },
  {
   "cell_type": "code",
   "execution_count": 15,
   "metadata": {},
   "outputs": [
    {
     "name": "stdout",
     "output_type": "stream",
     "text": [
      "La vitesse mesurée par cette méthode est de 341.3 m/s\n"
     ]
    }
   ],
   "source": [
    "t = 9727.07 #µs\n",
    "d = 1.66 #m\n",
    "\n",
    "D = 2*d #Aller retour\n",
    "v = D / (t / 1e6)\n",
    "print(\"La vitesse mesurée par cette méthode est de {:.1f} m/s\".format(v))"
   ]
  },
  {
   "cell_type": "markdown",
   "metadata": {},
   "source": [
    "<h2>Partie 2 - Mesure de distance</h2>\n",
    "<p><b>9°)</b> Ouvrez le programme <a href=\"./US3.ino\" target=\"_blank\">US3.ino</a> fourni. Modifiez le pour qu'il permette de réaliser des mesures de distance. <b>Téléversez le dans votre carte Arduino</b> (attention de bien régler <b style=\"color:red;\">le type de carte, le port et le processeur)</b>."
   ]
  },
  {
   "cell_type": "markdown",
   "metadata": {},
   "source": [
    "<b>10°)</b> En utilisant US2.ino et US3.ino, proposez un programme pour que la carte affiche une valeur de distance après avoir réalisé une moyenne sur 64 mesures. <b>Téléversez le dans votre carte Arduino</b> (attention de bien régler <b style=\"color:red;\">le type de carte, le port et le processeur)</b>. Pour chaque mesure, comparez la valeur donnée par le capteur et celui mesuré avec un mètre ruban."
   ]
  },
  {
   "cell_type": "markdown",
   "metadata": {},
   "source": [
    "<a href=\"./US3_cor.ino\" target=\"_blank\">correction</a>"
   ]
  },
  {
   "cell_type": "markdown",
   "metadata": {},
   "source": [
    "<h2><a href=\"#Titre\">Retour au début du TP</a></h2>"
   ]
  }
 ],
 "metadata": {
  "celltoolbar": "Format de la Cellule Texte Brut",
  "kernelspec": {
   "display_name": "Python 3",
   "language": "python",
   "name": "python3"
  },
  "language_info": {
   "codemirror_mode": {
    "name": "ipython",
    "version": 3
   },
   "file_extension": ".py",
   "mimetype": "text/x-python",
   "name": "python",
   "nbconvert_exporter": "python",
   "pygments_lexer": "ipython3",
   "version": "3.7.3rc1"
  }
 },
 "nbformat": 4,
 "nbformat_minor": 2
}
